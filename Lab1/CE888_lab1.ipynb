{
  "nbformat": 4,
  "nbformat_minor": 0,
  "metadata": {
    "colab": {
      "name": "CE888 lab1.ipynb",
      "provenance": [],
      "collapsed_sections": [],
      "authorship_tag": "ABX9TyOFCW3WemVzSHI5uwN56KCb",
      "include_colab_link": true
    },
    "kernelspec": {
      "name": "python3",
      "display_name": "Python 3"
    }
  },
  "cells": [
    {
      "cell_type": "markdown",
      "metadata": {
        "id": "view-in-github",
        "colab_type": "text"
      },
      "source": [
        "<a href=\"https://colab.research.google.com/github/Maviya5/CE888/blob/master/Lab1/CE888_lab1.ipynb\" target=\"_parent\"><img src=\"https://colab.research.google.com/assets/colab-badge.svg\" alt=\"Open In Colab\"/></a>"
      ]
    },
    {
      "cell_type": "code",
      "metadata": {
        "id": "I_hka1C0yS0i",
        "colab_type": "code",
        "colab": {}
      },
      "source": [
        "import matplotlib.pyplot as plt\n",
        "import numpy as np\n",
        "t = np.linspace(0, 2*np.pi, 50)\n",
        "x = np.sin(t)\n",
        "y = np.cos(t)\n"
      ],
      "execution_count": 0,
      "outputs": []
    },
    {
      "cell_type": "code",
      "metadata": {
        "id": "-JNJWVuOzKh9",
        "colab_type": "code",
        "colab": {
          "base_uri": "https://localhost:8080/",
          "height": 298
        },
        "outputId": "c5229662-4047-4677-f16d-c3cda3dadd10"
      },
      "source": [
        "plt.figure()\n",
        "plt.plot(x)\n",
        "plt.title(\"hah\")\n"
      ],
      "execution_count": 18,
      "outputs": [
        {
          "output_type": "execute_result",
          "data": {
            "text/plain": [
              "Text(0.5, 1.0, 'hah')"
            ]
          },
          "metadata": {
            "tags": []
          },
          "execution_count": 18
        },
        {
          "output_type": "display_data",
          "data": {
            "image/png": "[encoded data removed]",
            "text/plain": [
              "<Figure size 432x288 with 1 Axes>"
            ]
          },
          "metadata": {
            "tags": []
          }
        }
      ]
    },
    {
      "cell_type": "code",
      "metadata": {
        "id": "xkh66oG5z3KR",
        "colab_type": "code",
        "colab": {
          "base_uri": "https://localhost:8080/",
          "height": 298
        },
        "outputId": "81e7d304-85fb-4126-affa-9a2f4b8ad7d3"
      },
      "source": [
        "plt.figure()\n",
        "plt.plot(y)\n",
        "plt.title(\"cos\")"
      ],
      "execution_count": 21,
      "outputs": [
        {
          "output_type": "execute_result",
          "data": {
            "text/plain": [
              "Text(0.5, 1.0, 'cos')"
            ]
          },
          "metadata": {
            "tags": []
          },
          "execution_count": 21
        },
        {
          "output_type": "display_data",
          "data": {
            "image/png": "[encoded data removed]",
            "text/plain": [
              "<Figure size 432x288 with 1 Axes>"
            ]
          },
          "metadata": {
            "tags": []
          }
        }
      ]
    },
    {
      "cell_type": "code",
      "metadata": {
        "id": "WaGYkZdH1C-g",
        "colab_type": "code",
        "colab": {
          "base_uri": "https://localhost:8080/",
          "height": 282
        },
        "outputId": "efb249c2-3a09-4700-f74f-49a36cbb0e39"
      },
      "source": [
        "x=np.linspace(0,2*np.pi,50)\n",
        "y1=np.sin(x)\n",
        "y2=np.sin(2*x)\n",
        "plt.figure\n",
        "plt.plot(y1)\n",
        "plt.plot(x,y1)\n",
        "\n",
        "#red dot-dash circle\n",
        "plt.plot(x,y1,'r')\n",
        "\n",
        "# red marker only circle\n",
        "plt.plot(x,y1,'r-o')\n",
        "\n",
        "plt.clf()\n",
        "plt.plot(x,y1,'g-o',x,y2,'b-+')\n",
        "plt.legend(['sin(x)','sin(2x)'])"
      ],
      "execution_count": 24,
      "outputs": [
        {
          "output_type": "execute_result",
          "data": {
            "text/plain": [
              "<matplotlib.legend.Legend at 0x7f3c6f4467f0>"
            ]
          },
          "metadata": {
            "tags": []
          },
          "execution_count": 24
        },
        {
          "output_type": "display_data",
          "data": {
            "image/png": "[encoded data removed]",
            "text/plain": [
              "<Figure size 432x288 with 1 Axes>"
            ]
          },
          "metadata": {
            "tags": []
          }
        }
      ]
    },
    {
      "cell_type": "code",
      "metadata": {
        "id": "6bBfoAcS3LUd",
        "colab_type": "code",
        "colab": {
          "base_uri": "https://localhost:8080/",
          "height": 451
        },
        "outputId": "eac4a8d0-66c5-4f1e-ddb9-c718be09b408"
      },
      "source": [
        " # no. of points\n",
        "N = 50\n",
        "x = np.linspace(0, 10, N)\n",
        "print(x)\n",
        "from numpy.random import rand\n",
        "e = rand(N)*5.0 # noise\n",
        "y1 = x + e\n",
        "\n",
        "\n",
        "areas = rand(N)*300\n",
        "plt.scatter(x, y1, s=areas)\n",
        "colors = rand(N)\n",
        "\n",
        "plt.colorbar()\n",
        "plt.title(\"Random scatter\")"
      ],
      "execution_count": 34,
      "outputs": [
        {
          "output_type": "stream",
          "text": [
            "[ 0.          0.20408163  0.40816327  0.6122449   0.81632653  1.02040816\n",
            "  1.2244898   1.42857143  1.63265306  1.83673469  2.04081633  2.24489796\n",
            "  2.44897959  2.65306122  2.85714286  3.06122449  3.26530612  3.46938776\n",
            "  3.67346939  3.87755102  4.08163265  4.28571429  4.48979592  4.69387755\n",
            "  4.89795918  5.10204082  5.30612245  5.51020408  5.71428571  5.91836735\n",
            "  6.12244898  6.32653061  6.53061224  6.73469388  6.93877551  7.14285714\n",
            "  7.34693878  7.55102041  7.75510204  7.95918367  8.16326531  8.36734694\n",
            "  8.57142857  8.7755102   8.97959184  9.18367347  9.3877551   9.59183673\n",
            "  9.79591837 10.        ]\n"
          ],
          "name": "stdout"
        },
        {
          "output_type": "execute_result",
          "data": {
            "text/plain": [
              "Text(0.5, 1.0, 'Random scatter')"
            ]
          },
          "metadata": {
            "tags": []
          },
          "execution_count": 34
        },
        {
          "output_type": "display_data",
          "data": {
            "image/png": "[encoded data removed]",
            "text/plain": [
              "<Figure size 432x288 with 2 Axes>"
            ]
          },
          "metadata": {
            "tags": []
          }
        }
      ]
    },
    {
      "cell_type": "code",
      "metadata": {
        "id": "gJjlTJ6y6EdA",
        "colab_type": "code",
        "colab": {
          "base_uri": "https://localhost:8080/",
          "height": 354
        },
        "outputId": "fa2bef5f-7dbb-4cb8-f2a9-ad2cd7b42489"
      },
      "source": [
        "# Create some data\n",
        "e1 = rand(100)\n",
        "e2 = rand(100)*2\n",
        "e3 = rand(100)*50\n",
        "e4 = rand(100)*100\n",
        "corrmatrix = np.corrcoef([e1, e2, e3, e4])\n",
        "print(corrmatrix)\n",
        "#Plot corr matrix as image\n",
        "plt.imshow(corrmatrix, cmap='GnBu')\n",
        "plt.colorbar()"
      ],
      "execution_count": 40,
      "outputs": [
        {
          "output_type": "stream",
          "text": [
            "[[ 1.         -0.11645508 -0.13730959 -0.00835424]\n",
            " [-0.11645508  1.          0.2042983   0.05827726]\n",
            " [-0.13730959  0.2042983   1.         -0.15124026]\n",
            " [-0.00835424  0.05827726 -0.15124026  1.        ]]\n"
          ],
          "name": "stdout"
        },
        {
          "output_type": "execute_result",
          "data": {
            "text/plain": [
              "<matplotlib.colorbar.Colorbar at 0x7f3c6c93fe10>"
            ]
          },
          "metadata": {
            "tags": []
          },
          "execution_count": 40
        },
        {
          "output_type": "display_data",
          "data": {
            "image/png": "[encoded data removed]",
            "text/plain": [
              "<Figure size 432x288 with 2 Axes>"
            ]
          },
          "metadata": {
            "tags": []
          }
        }
      ]
    },
    {
      "cell_type": "code",
      "metadata": {
        "id": "NpcB0fDb76We",
        "colab_type": "code",
        "colab": {
          "base_uri": "https://localhost:8080/",
          "height": 282
        },
        "outputId": "3e35f3a5-70fd-4756-a711-a9489753182b"
      },
      "source": [
        "t = np.linspace(0, 2*np.pi)\n",
        "x = np.sin(t)\n",
        "y = np.cos(t)\n",
        "# To divide the plotting area\n",
        "plt.subplot(2, 1, 1)\n",
        "plt.plot(x)\n",
        "# Now activate a new plot\n",
        "# area.\n",
        "plt.subplot(2, 1, 2)\n",
        "plt.plot(y)"
      ],
      "execution_count": 41,
      "outputs": [
        {
          "output_type": "execute_result",
          "data": {
            "text/plain": [
              "[<matplotlib.lines.Line2D at 0x7f3c6c863f98>]"
            ]
          },
          "metadata": {
            "tags": []
          },
          "execution_count": 41
        },
        {
          "output_type": "display_data",
          "data": {
            "image/png": "[encoded data removed]",
            "text/plain": [
              "<Figure size 432x288 with 2 Axes>"
            ]
          },
          "metadata": {
            "tags": []
          }
        }
      ]
    },
    {
      "cell_type": "code",
      "metadata": {
        "id": "_yfdNUF48SPS",
        "colab_type": "code",
        "colab": {
          "base_uri": "https://localhost:8080/",
          "height": 350
        },
        "outputId": "0d700ac3-d163-4e33-a4b4-a7d37bd8890a"
      },
      "source": [
        "# Create array of data\n",
        "from numpy.random import randint\n",
        "data = randint(10000, size=(10,1000))\n",
        "# Approx norm distribution\n",
        "x = np.sum(data, axis=0)\n",
        "# Set up for stacked plots\n",
        "plt.subplot(2,1,1)\n",
        "plt.hist(x, color='r')\n",
        "# Plot cumulative dist\n",
        "plt.subplot(2,1,2)\n",
        "plt.hist(x, cumulative=True)"
      ],
      "execution_count": 42,
      "outputs": [
        {
          "output_type": "execute_result",
          "data": {
            "text/plain": [
              "(array([   7.,   32.,  116.,  269.,  478.,  665.,  842.,  943.,  986.,\n",
              "        1000.]),\n",
              " array([24275. , 29300.2, 34325.4, 39350.6, 44375.8, 49401. , 54426.2,\n",
              "        59451.4, 64476.6, 69501.8, 74527. ]),\n",
              " <a list of 10 Patch objects>)"
            ]
          },
          "metadata": {
            "tags": []
          },
          "execution_count": 42
        },
        {
          "output_type": "display_data",
          "data": {
            "image/png": "[encoded data removed]",
            "text/plain": [
              "<Figure size 432x288 with 2 Axes>"
            ]
          },
          "metadata": {
            "tags": []
          }
        }
      ]
    },
    {
      "cell_type": "code",
      "metadata": {
        "id": "UHopr99-8X1Y",
        "colab_type": "code",
        "colab": {
          "base_uri": "https://localhost:8080/",
          "height": 282
        },
        "outputId": "922a2b7d-37d3-4763-e9fe-2a3d6dc4f3c7"
      },
      "source": [
        "# Add labels in plot command.\n",
        "plt.plot(np.sin(t), label='sin')\n",
        "plt.plot(np.cos(t), label='cos')\n",
        "plt.legend()"
      ],
      "execution_count": 43,
      "outputs": [
        {
          "output_type": "execute_result",
          "data": {
            "text/plain": [
              "<matplotlib.legend.Legend at 0x7f3c6c730208>"
            ]
          },
          "metadata": {
            "tags": []
          },
          "execution_count": 43
        },
        {
          "output_type": "display_data",
          "data": {
            "image/png": "[encoded data removed]",
            "text/plain": [
              "<Figure size 432x288 with 1 Axes>"
            ]
          },
          "metadata": {
            "tags": []
          }
        }
      ]
    },
    {
      "cell_type": "code",
      "metadata": {
        "id": "j5wWeUtq8uny",
        "colab_type": "code",
        "colab": {
          "base_uri": "https://localhost:8080/",
          "height": 312
        },
        "outputId": "f2dea518-58c4-4d6f-8c5a-f4c55a7ab560"
      },
      "source": [
        "plt.plot(t, np.sin(t))\n",
        "plt.xlabel('radians')\n",
        "# Keywords set text properties.\n",
        "plt.ylabel('amplitude',fontsize='large')\n",
        "plt.title('Sin(x)')"
      ],
      "execution_count": 44,
      "outputs": [
        {
          "output_type": "execute_result",
          "data": {
            "text/plain": [
              "Text(0.5, 1.0, 'Sin(x)')"
            ]
          },
          "metadata": {
            "tags": []
          },
          "execution_count": 44
        },
        {
          "output_type": "display_data",
          "data": {
            "image/png": "[encoded data removed]",
            "text/plain": [
              "<Figure size 432x288 with 1 Axes>"
            ]
          },
          "metadata": {
            "tags": []
          }
        }
      ]
    },
    {
      "cell_type": "code",
      "metadata": {
        "id": "WEZMlwte8wRi",
        "colab_type": "code",
        "colab": {}
      },
      "source": [
        "import numpy as np\n"
      ],
      "execution_count": 0,
      "outputs": []
    },
    {
      "cell_type": "code",
      "metadata": {
        "id": "ZFi97oOW8-5D",
        "colab_type": "code",
        "colab": {}
      },
      "source": [
        "a=np.array([[0,1,2,3,4,5],\n",
        "            [1,2,1,1,2,1]])"
      ],
      "execution_count": 0,
      "outputs": []
    },
    {
      "cell_type": "code",
      "metadata": {
        "id": "z1W8SGec9Fh7",
        "colab_type": "code",
        "colab": {
          "base_uri": "https://localhost:8080/",
          "height": 51
        },
        "outputId": "8d69ce0c-9e1b-4487-85a9-4832ca685865"
      },
      "source": [
        "print(a)"
      ],
      "execution_count": 59,
      "outputs": [
        {
          "output_type": "stream",
          "text": [
            "[[0 1 2 3 4 5]\n",
            " [1 2 1 1 2 1]]\n"
          ],
          "name": "stdout"
        }
      ]
    },
    {
      "cell_type": "code",
      "metadata": {
        "id": "buLeYyUG9Hxq",
        "colab_type": "code",
        "colab": {
          "base_uri": "https://localhost:8080/",
          "height": 34
        },
        "outputId": "97ee6889-e619-446f-87ac-389c97f609ae"
      },
      "source": [
        "print(a[0])"
      ],
      "execution_count": 60,
      "outputs": [
        {
          "output_type": "stream",
          "text": [
            "[0 1 2 3 4 5]\n"
          ],
          "name": "stdout"
        }
      ]
    },
    {
      "cell_type": "code",
      "metadata": {
        "id": "Wj1Xha3G9vfE",
        "colab_type": "code",
        "colab": {
          "base_uri": "https://localhost:8080/",
          "height": 34
        },
        "outputId": "9ca4bc9c-7230-480b-ad44-9156fb1ad3ca"
      },
      "source": [
        "print(a.shape)"
      ],
      "execution_count": 61,
      "outputs": [
        {
          "output_type": "stream",
          "text": [
            "(2, 6)\n"
          ],
          "name": "stdout"
        }
      ]
    },
    {
      "cell_type": "code",
      "metadata": {
        "id": "y0OI0Tx3-Co7",
        "colab_type": "code",
        "colab": {
          "base_uri": "https://localhost:8080/",
          "height": 34
        },
        "outputId": "98d45e60-14e3-4c87-f4a3-a9aee0b2f0d1"
      },
      "source": [
        "print(a.ndim)"
      ],
      "execution_count": 62,
      "outputs": [
        {
          "output_type": "stream",
          "text": [
            "2\n"
          ],
          "name": "stdout"
        }
      ]
    },
    {
      "cell_type": "code",
      "metadata": {
        "id": "K_KM38Xe-lmT",
        "colab_type": "code",
        "colab": {}
      },
      "source": [
        ""
      ],
      "execution_count": 0,
      "outputs": []
    },
    {
      "cell_type": "code",
      "metadata": {
        "id": "vaTT7ypz-oVj",
        "colab_type": "code",
        "colab": {
          "base_uri": "https://localhost:8080/",
          "height": 51
        },
        "outputId": "5d9e5c2f-2d62-45c6-fa6b-6a7f501abc9c"
      },
      "source": [
        "print(a[1,3])\n",
        "a[1,3]=-1\n",
        "print(a[1,3])"
      ],
      "execution_count": 65,
      "outputs": [
        {
          "output_type": "stream",
          "text": [
            "1\n",
            "-1\n"
          ],
          "name": "stdout"
        }
      ]
    },
    {
      "cell_type": "code",
      "metadata": {
        "id": "sDh4KPln-0gk",
        "colab_type": "code",
        "colab": {}
      },
      "source": [
        "#Question 1\n"
      ],
      "execution_count": 0,
      "outputs": []
    },
    {
      "cell_type": "code",
      "metadata": {
        "id": "pSfhlpRp_1j4",
        "colab_type": "code",
        "colab": {
          "base_uri": "https://localhost:8080/",
          "height": 85
        },
        "outputId": "a1a246e1-1ed9-49fa-ae55-d82da877782a"
      },
      "source": [
        "a=np.array([[1,2],\n",
        "            [4,3],\n",
        "            [7,8],[8,9]])\n",
        "print(a)           "
      ],
      "execution_count": 72,
      "outputs": [
        {
          "output_type": "stream",
          "text": [
            "[[1 2]\n",
            " [4 3]\n",
            " [7 8]\n",
            " [8 9]]\n"
          ],
          "name": "stdout"
        }
      ]
    },
    {
      "cell_type": "code",
      "metadata": {
        "id": "UxIPtdkqAEAJ",
        "colab_type": "code",
        "colab": {}
      },
      "source": [
        "#question 2\n"
      ],
      "execution_count": 0,
      "outputs": []
    },
    {
      "cell_type": "code",
      "metadata": {
        "id": "zeUAhNufAKPd",
        "colab_type": "code",
        "colab": {
          "base_uri": "https://localhost:8080/",
          "height": 34
        },
        "outputId": "6c7704c7-9f4e-401b-ebc5-e4f9be4be270"
      },
      "source": [
        "b=np.array([1,8,9,7,6,5,4,3,4,2])\n",
        "b.sort()\n",
        "print(b)"
      ],
      "execution_count": 69,
      "outputs": [
        {
          "output_type": "stream",
          "text": [
            "[1 2 3 4 4 5 6 7 8 9]\n"
          ],
          "name": "stdout"
        }
      ]
    },
    {
      "cell_type": "code",
      "metadata": {
        "id": "XrDfpKI7Am_s",
        "colab_type": "code",
        "colab": {
          "base_uri": "https://localhost:8080/",
          "height": 34
        },
        "outputId": "2e4fc9c8-1232-4f85-d1b0-ded810d28d79"
      },
      "source": [
        ""
      ],
      "execution_count": 76,
      "outputs": [
        {
          "output_type": "stream",
          "text": [
            "[1 8 9 7 6 5 4 3 4 2]\n"
          ],
          "name": "stdout"
        }
      ]
    },
    {
      "cell_type": "code",
      "metadata": {
        "id": "6UM05yLSAtCs",
        "colab_type": "code",
        "colab": {}
      },
      "source": [
        "#question 3\n"
      ],
      "execution_count": 0,
      "outputs": []
    },
    {
      "cell_type": "code",
      "metadata": {
        "id": "jLZYcEiyCdXI",
        "colab_type": "code",
        "colab": {
          "base_uri": "https://localhost:8080/",
          "height": 34
        },
        "outputId": "4ead837e-0c8a-458c-d163-099d33fe1ef7"
      },
      "source": [
        "a=np.array([1,2 ,3, 4 ,5, 6, 7, 8, 9])\n",
        "print(a)"
      ],
      "execution_count": 79,
      "outputs": [
        {
          "output_type": "stream",
          "text": [
            "[1 2 3 4 5 6 7 8 9]\n"
          ],
          "name": "stdout"
        }
      ]
    },
    {
      "cell_type": "code",
      "metadata": {
        "id": "tP2cexksDWuf",
        "colab_type": "code",
        "colab": {
          "base_uri": "https://localhost:8080/",
          "height": 68
        },
        "outputId": "665472cf-6ae4-423f-dcc3-b69e1e5af79a"
      },
      "source": [
        "b=np.reshape(a,[-1,3])\n",
        "print(b)"
      ],
      "execution_count": 82,
      "outputs": [
        {
          "output_type": "stream",
          "text": [
            "[[1 2 3]\n",
            " [4 5 6]\n",
            " [7 8 9]]\n"
          ],
          "name": "stdout"
        }
      ]
    },
    {
      "cell_type": "code",
      "metadata": {
        "id": "XDjI9spLDprA",
        "colab_type": "code",
        "colab": {}
      },
      "source": [
        "#question4"
      ],
      "execution_count": 0,
      "outputs": []
    },
    {
      "cell_type": "code",
      "metadata": {
        "id": "mzjRqKwnD_5g",
        "colab_type": "code",
        "colab": {
          "base_uri": "https://localhost:8080/",
          "height": 85
        },
        "outputId": "3856fa89-37b4-4d23-f6ab-3292a8ce40fd"
      },
      "source": [
        "a=np.array([[1,9],[8,7]])\n",
        "b=np.array([[8,9],[7,6]])\n",
        "np.concatenate((a,b),axis=0)"
      ],
      "execution_count": 100,
      "outputs": [
        {
          "output_type": "execute_result",
          "data": {
            "text/plain": [
              "array([[1, 9],\n",
              "       [8, 7],\n",
              "       [8, 9],\n",
              "       [7, 6]])"
            ]
          },
          "metadata": {
            "tags": []
          },
          "execution_count": 100
        }
      ]
    },
    {
      "cell_type": "code",
      "metadata": {
        "id": "rP_BqdiqEk7a",
        "colab_type": "code",
        "colab": {
          "base_uri": "https://localhost:8080/",
          "height": 51
        },
        "outputId": "f50d03aa-7070-4896-9894-4b5e9feb88cb"
      },
      "source": [
        "print(np.concatenate((a, b.T), axis=1))"
      ],
      "execution_count": 103,
      "outputs": [
        {
          "output_type": "stream",
          "text": [
            "[[1 9 8 7]\n",
            " [8 7 9 6]]\n"
          ],
          "name": "stdout"
        }
      ]
    },
    {
      "cell_type": "code",
      "metadata": {
        "id": "LMmb7VVyIBEO",
        "colab_type": "code",
        "colab": {}
      },
      "source": [
        "#Question5"
      ],
      "execution_count": 0,
      "outputs": []
    },
    {
      "cell_type": "code",
      "metadata": {
        "id": "N8ImNxKgEvyz",
        "colab_type": "code",
        "colab": {
          "base_uri": "https://localhost:8080/",
          "height": 51
        },
        "outputId": "75e1de92-df03-477d-9bab-8be42203394a"
      },
      "source": [
        "c=np.array([1,2,3,5,9,3])\n",
        "print(c)\n",
        "d=np.array([1,3,4,6,79,78])\n",
        "print(d)"
      ],
      "execution_count": 106,
      "outputs": [
        {
          "output_type": "stream",
          "text": [
            "[1 2 3 5 9 3]\n",
            "[ 1  3  4  6 79 78]\n"
          ],
          "name": "stdout"
        }
      ]
    },
    {
      "cell_type": "code",
      "metadata": {
        "id": "KeYNjmr4JHAJ",
        "colab_type": "code",
        "colab": {
          "base_uri": "https://localhost:8080/",
          "height": 34
        },
        "outputId": "ac4dfaf2-c25c-41d2-eeb6-9e1ef7fa6747"
      },
      "source": [
        "x=np.intersect1d(d,c)\n",
        "print(x)\n"
      ],
      "execution_count": 110,
      "outputs": [
        {
          "output_type": "stream",
          "text": [
            "[1 3]\n"
          ],
          "name": "stdout"
        }
      ]
    },
    {
      "cell_type": "code",
      "metadata": {
        "id": "s8RNdHR8JpQo",
        "colab_type": "code",
        "colab": {}
      },
      "source": [
        "#question6"
      ],
      "execution_count": 0,
      "outputs": []
    },
    {
      "cell_type": "code",
      "metadata": {
        "id": "BSdkfA-uKBeg",
        "colab_type": "code",
        "colab": {
          "base_uri": "https://localhost:8080/",
          "height": 357
        },
        "outputId": "8d746251-a279-40c8-adc3-17730630dfdd"
      },
      "source": [
        "a=np.array([[1,2,3,4,5],[5,4,3,2,1],[5,6,7,8,9],[9,8,7,6,5],[7,8,9,6,5]])\n",
        "# print(a)\n",
        "for i in a:\n",
        "  print(np.amax(i))\n",
        "  print(np.amin(i))\n",
        "\n",
        "for i in a.T:\n",
        "  print(np.amax(i))\n",
        "  print(np.amin(i))"
      ],
      "execution_count": 116,
      "outputs": [
        {
          "output_type": "stream",
          "text": [
            "5\n",
            "1\n",
            "5\n",
            "1\n",
            "9\n",
            "5\n",
            "9\n",
            "5\n",
            "9\n",
            "5\n",
            "9\n",
            "1\n",
            "8\n",
            "2\n",
            "9\n",
            "3\n",
            "8\n",
            "2\n",
            "9\n",
            "1\n"
          ],
          "name": "stdout"
        }
      ]
    },
    {
      "cell_type": "code",
      "metadata": {
        "id": "3sFA0kfiKdUH",
        "colab_type": "code",
        "colab": {}
      },
      "source": [
        "#question7"
      ],
      "execution_count": 0,
      "outputs": []
    },
    {
      "cell_type": "code",
      "metadata": {
        "id": "IqTadoIBKe__",
        "colab_type": "code",
        "colab": {}
      },
      "source": [
        "import numpy.random as rand\n",
        "import random"
      ],
      "execution_count": 0,
      "outputs": []
    },
    {
      "cell_type": "code",
      "metadata": {
        "id": "NWV6m8SkM_iv",
        "colab_type": "code",
        "colab": {
          "base_uri": "https://localhost:8080/",
          "height": 68
        },
        "outputId": "459d0df0-ef1e-4fcc-ace7-d094b5886155"
      },
      "source": [
        "z=np.random.rand(100)\n",
        "z=np.mean(z)\n",
        "print(z)\n",
        "print(np.median(z))\n",
        "print(np.std(z))"
      ],
      "execution_count": 129,
      "outputs": [
        {
          "output_type": "stream",
          "text": [
            "0.4878056659221026\n",
            "0.4878056659221026\n",
            "0.0\n"
          ],
          "name": "stdout"
        }
      ]
    },
    {
      "cell_type": "code",
      "metadata": {
        "id": "5ck1apXGNdZy",
        "colab_type": "code",
        "colab": {
          "base_uri": "https://localhost:8080/",
          "height": 187
        },
        "outputId": "a1d0df7d-bb50-4f6a-afc7-0eac51c8db62"
      },
      "source": [
        "#question8\n",
        "from sklearn.preprocessing import normalize\n",
        "x= np.random.random((5,5))\n",
        "print(x)\n",
        "# xmax, xmin = x.max(), x.min()\n",
        "# x = (x - xmin)/(xmax - xmin)\n",
        "# print(\"After normalization:\")\n",
        "# print(x)\n",
        "\n",
        "normalize(x)"
      ],
      "execution_count": 141,
      "outputs": [
        {
          "output_type": "stream",
          "text": [
            "[[0.16664346 0.83137925 0.78270555 0.97698655 0.79796453]\n",
            " [0.67240405 0.62026381 0.7038793  0.64817069 0.07505862]\n",
            " [0.78170471 0.13534726 0.8729422  0.59853632 0.515952  ]\n",
            " [0.60756665 0.58097373 0.73753339 0.52846795 0.21316295]\n",
            " [0.23894164 0.34597267 0.11933505 0.64001234 0.75494293]]\n"
          ],
          "name": "stdout"
        },
        {
          "output_type": "execute_result",
          "data": {
            "text/plain": [
              "array([[0.09747333, 0.48629151, 0.45782123, 0.57146034, 0.46674653],\n",
              "       [0.50712326, 0.4677994 , 0.53086172, 0.48884661, 0.05660878],\n",
              "       [0.55056981, 0.0953277 , 0.61483015, 0.42156076, 0.36339501],\n",
              "       [0.48406844, 0.46288099, 0.58761725, 0.4210479 , 0.16983397],\n",
              "       [0.22084636, 0.31977182, 0.11029769, 0.59154358, 0.69777036]])"
            ]
          },
          "metadata": {
            "tags": []
          },
          "execution_count": 141
        }
      ]
    },
    {
      "cell_type": "code",
      "metadata": {
        "id": "BwM5RIhlO_WC",
        "colab_type": "code",
        "colab": {}
      },
      "source": [
        "#question9"
      ],
      "execution_count": 0,
      "outputs": []
    },
    {
      "cell_type": "code",
      "metadata": {
        "id": "Y3YwT03YPEcJ",
        "colab_type": "code",
        "colab": {
          "base_uri": "https://localhost:8080/",
          "height": 340
        },
        "outputId": "a40f3c23-ceb3-456e-c1c9-3eaba7c97301"
      },
      "source": [
        "x= np.random.random((4,4,3))\n",
        "print(x)"
      ],
      "execution_count": 135,
      "outputs": [
        {
          "output_type": "stream",
          "text": [
            "[[[0.55911311 0.99537425 0.0892631 ]\n",
            "  [0.89680864 0.7760603  0.91597008]\n",
            "  [0.53601699 0.77299126 0.36033259]\n",
            "  [0.93735029 0.31417681 0.48165593]]\n",
            "\n",
            " [[0.46626415 0.65412845 0.67096399]\n",
            "  [0.10299312 0.33387598 0.46161814]\n",
            "  [0.58470578 0.9562211  0.4986366 ]\n",
            "  [0.84526282 0.03190224 0.43386534]]\n",
            "\n",
            " [[0.53344638 0.94917547 0.0440344 ]\n",
            "  [0.734125   0.72275571 0.38325323]\n",
            "  [0.78149645 0.43240098 0.71481785]\n",
            "  [0.61580289 0.13373189 0.06870662]]\n",
            "\n",
            " [[0.66669776 0.8228531  0.91292455]\n",
            "  [0.61133898 0.82034979 0.9025478 ]\n",
            "  [0.03393597 0.35638167 0.94937016]\n",
            "  [0.38772784 0.90362042 0.67218454]]]\n"
          ],
          "name": "stdout"
        }
      ]
    },
    {
      "cell_type": "code",
      "metadata": {
        "id": "xJ0c3Q_KPous",
        "colab_type": "code",
        "colab": {
          "base_uri": "https://localhost:8080/",
          "height": 85
        },
        "outputId": "30f03de3-5dcc-4915-90dc-158a471988f4"
      },
      "source": [
        "y= np.random.random((4,4))\n",
        "print(y)"
      ],
      "execution_count": 136,
      "outputs": [
        {
          "output_type": "stream",
          "text": [
            "[[0.19747198 0.7133734  0.56326912 0.82889511]\n",
            " [0.04181787 0.28751142 0.70862842 0.19476929]\n",
            " [0.10436564 0.13400192 0.7731935  0.96141807]\n",
            " [0.02156423 0.0228322  0.14365139 0.32827938]]\n"
          ],
          "name": "stdout"
        }
      ]
    },
    {
      "cell_type": "code",
      "metadata": {
        "id": "ggzXWxR0P2N8",
        "colab_type": "code",
        "colab": {
          "base_uri": "https://localhost:8080/",
          "height": 340
        },
        "outputId": "4d5b8d76-92df-4448-a179-b2833c3f0f13"
      },
      "source": [
        "x * y[:, :, None]"
      ],
      "execution_count": 137,
      "outputs": [
        {
          "output_type": "execute_result",
          "data": {
            "text/plain": [
              "array([[[0.11040917, 0.19655852, 0.01762696],\n",
              "        [0.63975943, 0.55362078, 0.65342869],\n",
              "        [0.30192182, 0.4354021 , 0.20296422],\n",
              "        [0.77696508, 0.26041962, 0.39924224]],\n",
              "\n",
              "       [[0.01949817, 0.02735426, 0.02805828],\n",
              "        [0.0296117 , 0.09599316, 0.13272049],\n",
              "        [0.41433913, 0.67760545, 0.35334807],\n",
              "        [0.16463124, 0.00621358, 0.08450364]],\n",
              "\n",
              "       [[0.05567347, 0.0990613 , 0.00459568],\n",
              "        [0.09837416, 0.09685065, 0.05135667],\n",
              "        [0.60424797, 0.33432962, 0.55269252],\n",
              "        [0.59204403, 0.12857226, 0.06605579]],\n",
              "\n",
              "       [[0.01437682, 0.01774419, 0.01968651],\n",
              "        [0.01395821, 0.01873039, 0.02060715],\n",
              "        [0.00487495, 0.05119472, 0.13637835],\n",
              "        [0.12728305, 0.29663995, 0.22066432]]])"
            ]
          },
          "metadata": {
            "tags": []
          },
          "execution_count": 137
        }
      ]
    }
  ]
}