{
  "nbformat": 4,
  "nbformat_minor": 0,
  "metadata": {
    "colab": {
      "name": "Google_Analysis_covariate_detection.ipynb",
      "provenance": [],
      "collapsed_sections": [],
      "include_colab_link": true
    },
    "kernelspec": {
      "name": "python3",
      "display_name": "Python 3"
    },
    "accelerator": "GPU"
  },
  "cells": [
    {
      "cell_type": "markdown",
      "metadata": {
        "id": "view-in-github",
        "colab_type": "text"
      },
      "source": [
        "<a href=\"https://colab.research.google.com/github/Maviya5/CE888/blob/master/Assignment%202/Google_Analysis_covariate_detection.ipynb\" target=\"_parent\"><img src=\"https://colab.research.google.com/assets/colab-badge.svg\" alt=\"Open In Colab\"/></a>"
      ]
    },
    {
      "cell_type": "code",
      "metadata": {
        "id": "4eI0zvy77JQD",
        "colab_type": "code",
        "colab": {}
      },
      "source": [
        "import pandas as pd\n",
        "import numpy as np\n",
        "from sklearn.ensemble import RandomForestRegressor\n",
        "from sklearn.ensemble import RandomForestClassifier\n",
        "from sklearn.model_selection import cross_val_score\n",
        "import os\n",
        "import json\n",
        "from pandas.io.json import json_normalize"
      ],
      "execution_count": 0,
      "outputs": []
    },
    {
      "cell_type": "code",
      "metadata": {
        "id": "6VF9BizeGmpE",
        "colab_type": "code",
        "outputId": "d1083a13-b9ad-4875-d884-3708aad8879a",
        "colab": {
          "base_uri": "https://localhost:8080/",
          "height": 190
        }
      },
      "source": [
        "import os\n",
        "\n",
        "os.environ['KAGGLE_USERNAME'] = \"namnitha\" # username from the json file\n",
        "\n",
        "os.environ['KAGGLE_KEY'] = \"90ceb5b09eaa184f556d4577eb017b49\" # key from the json file\n",
        "\n",
        "!kaggle competitions download -c ga-customer-revenue-prediction # api copied from kaggle"
      ],
      "execution_count": 11,
      "outputs": [
        {
          "output_type": "stream",
          "text": [
            "Warning: Looks like you're using an outdated API Version, please consider updating (server 1.5.6 / client 1.5.4)\n",
            "sample_submission.csv.zip: Skipping, found more recently modified local copy (use --force to force download)\n",
            "Downloading train.csv.zip to /content\n",
            " 82% 50.0M/61.1M [00:01<00:00, 37.6MB/s]\n",
            "100% 61.1M/61.1M [00:01<00:00, 48.7MB/s]\n",
            "train_v2.csv.zip: Skipping, found more recently modified local copy (use --force to force download)\n",
            "test.csv.zip: Skipping, found more recently modified local copy (use --force to force download)\n",
            "sample_submission_v2.csv.zip: Skipping, found more recently modified local copy (use --force to force download)\n",
            "test_v2.csv.zip: Skipping, found more recently modified local copy (use --force to force download)\n"
          ],
          "name": "stdout"
        }
      ]
    },
    {
      "cell_type": "code",
      "metadata": {
        "id": "AXaU9kFAG72l",
        "colab_type": "code",
        "outputId": "3bbaca29-115f-4442-8b38-d9ead04b250e",
        "colab": {
          "base_uri": "https://localhost:8080/",
          "height": 68
        }
      },
      "source": [
        "!ls"
      ],
      "execution_count": 12,
      "outputs": [
        {
          "output_type": "stream",
          "text": [
            "sample_data\t\t      test.csv\t       train.csv.zip\n",
            "sample_submission.csv.zip     test.csv.zip     train_v2.csv.zip\n",
            "sample_submission_v2.csv.zip  test_v2.csv.zip\n"
          ],
          "name": "stdout"
        }
      ]
    },
    {
      "cell_type": "code",
      "metadata": {
        "id": "AT3SZ4uGQhG4",
        "colab_type": "code",
        "outputId": "d8f96b0e-f670-418f-958a-157ce355ea8d",
        "colab": {
          "base_uri": "https://localhost:8080/",
          "height": 34
        }
      },
      "source": [
        "from zipfile import ZipFile\n",
        "train = \"train.csv.zip\"\n",
        "with ZipFile(train,'r') as zip:\n",
        "  zip.extractall()\n",
        "  print('Done')"
      ],
      "execution_count": 13,
      "outputs": [
        {
          "output_type": "stream",
          "text": [
            "Done\n"
          ],
          "name": "stdout"
        }
      ]
    },
    {
      "cell_type": "code",
      "metadata": {
        "id": "B8I9-c2PrS4d",
        "colab_type": "code",
        "colab": {
          "base_uri": "https://localhost:8080/",
          "height": 71
        },
        "outputId": "091e6b84-94f2-476c-fa6f-b3917a023d32"
      },
      "source": [
        "train = pd.read_csv('train.csv', low_memory=True)\n",
        "test = pd.read_csv('test.csv', low_memory=True)"
      ],
      "execution_count": 14,
      "outputs": [
        {
          "output_type": "stream",
          "text": [
            "/usr/local/lib/python3.6/dist-packages/IPython/core/interactiveshell.py:2718: DtypeWarning: Columns (3) have mixed types.Specify dtype option on import or set low_memory=False.\n",
            "  interactivity=interactivity, compiler=compiler, result=result)\n"
          ],
          "name": "stderr"
        }
      ]
    },
    {
      "cell_type": "markdown",
      "metadata": {
        "id": "jKZG1I23HEbn",
        "colab_type": "text"
      },
      "source": [
        "Loading the train and test data\n",
        "\n"
      ]
    },
    {
      "cell_type": "code",
      "metadata": {
        "id": "jxVueUzT9wAW",
        "colab_type": "code",
        "colab": {}
      },
      "source": [
        "#Define function to load data (Kudos to Julian for that)\n",
        "def load_df(csv_path='train.csv', nrows=None):\n",
        "    JSON_COLUMNS = ['device', 'geoNetwork', 'totals', 'trafficSource']\n",
        "    \n",
        "    df = pd.read_csv(csv_path, \n",
        "                     converters={column: json.loads for column in JSON_COLUMNS}, \n",
        "                     dtype={'fullVisitorId': 'str'}, # Important!!\n",
        "                     nrows=nrows)\n",
        "    \n",
        "    for column in JSON_COLUMNS:\n",
        "        column_as_df = json_normalize(df[column])\n",
        "        column_as_df.columns = [f\"{column}.{subcolumn}\" for subcolumn in column_as_df.columns]\n",
        "        df = df.drop(column, axis=1).merge(column_as_df, right_index=True, left_index=True)\n",
        "    print(f\"Loaded {os.path.basename(csv_path)}. Shape: {df.shape}\")\n",
        "    return df"
      ],
      "execution_count": 0,
      "outputs": []
    },
    {
      "cell_type": "code",
      "metadata": {
        "id": "nuyGyONZ974W",
        "colab_type": "code",
        "outputId": "8e039496-2cac-48ca-fef3-084cff0b6218",
        "colab": {
          "base_uri": "https://localhost:8080/",
          "height": 153
        }
      },
      "source": [
        "print(train.head())"
      ],
      "execution_count": 17,
      "outputs": [
        {
          "output_type": "stream",
          "text": [
            "  channelGrouping      date  ... visitNumber visitStartTime\n",
            "0  Organic Search  20160902  ...           1     1472830385\n",
            "1  Organic Search  20160902  ...           1     1472880147\n",
            "2  Organic Search  20160902  ...           1     1472865386\n",
            "3  Organic Search  20160902  ...           1     1472881213\n",
            "4  Organic Search  20160902  ...           2     1472822600\n",
            "\n",
            "[5 rows x 12 columns]\n"
          ],
          "name": "stdout"
        }
      ]
    },
    {
      "cell_type": "code",
      "metadata": {
        "id": "tlkh80kj-k8D",
        "colab_type": "code",
        "colab": {
          "base_uri": "https://localhost:8080/",
          "height": 153
        },
        "outputId": "35ae1e8e-f0ee-4b6b-810e-d8906011d699"
      },
      "source": [
        "print(test.head())"
      ],
      "execution_count": 18,
      "outputs": [
        {
          "output_type": "stream",
          "text": [
            "  channelGrouping      date  ... visitNumber visitStartTime\n",
            "0  Organic Search  20171016  ...           2     1508151024\n",
            "1  Organic Search  20171016  ...           1     1508175522\n",
            "2  Organic Search  20171016  ...           1     1508143220\n",
            "3  Organic Search  20171016  ...           1     1508193530\n",
            "4  Organic Search  20171016  ...           1     1508217442\n",
            "\n",
            "[5 rows x 12 columns]\n"
          ],
          "name": "stdout"
        }
      ]
    },
    {
      "cell_type": "code",
      "metadata": {
        "id": "7ywcMKzlRuz0",
        "colab_type": "code",
        "colab": {}
      },
      "source": [
        "train['geoNetwork.country'].hist() \n",
        "test['geoNetwork.country'].hist()\n",
        "train[\"trafficSource.adContent\"].hist() \n",
        "test['trafficSource.adContent'].hist()\n",
        "train[\"trafficSource.source\"].hist() \n",
        "test['trafficSource.source'].hist()"
      ],
      "execution_count": 0,
      "outputs": []
    },
    {
      "cell_type": "code",
      "metadata": {
        "id": "dMWNVuomRvHE",
        "colab_type": "code",
        "colab": {}
      },
      "source": [
        "train['device.browserVersion'].hist() \n",
        "test['device.browserVersion'].hist()\n",
        "train[\"device.deviceCategory\"].hist() \n",
        "test['device.deviceCategory'].hist()\n",
        "train[\"device.flashVersion\"].hist() \n",
        "test['device.flashVersion'].hist()"
      ],
      "execution_count": 0,
      "outputs": []
    },
    {
      "cell_type": "code",
      "metadata": {
        "id": "ogDnhD6S_GXl",
        "colab_type": "code",
        "colab": {
          "base_uri": "https://localhost:8080/",
          "height": 68
        },
        "outputId": "20c48021-4ee5-4d2e-f649-22cce8fd43b7"
      },
      "source": [
        "#Impute missing values (mean for numeric, mode for categorical)\n",
        "print('Imputing missing values...')\n",
        "for i in train.columns:\n",
        "    if train[i].dtype == 'object':\n",
        "      train[i] = train[i].fillna(train[i].mode().iloc[0])\n",
        "    elif (train[i].dtype != 'object'):\n",
        "      train[i] = train[i].fillna(np.mean(train[i]))\n",
        "\n",
        "\n",
        "for i in test.columns:\n",
        "    if test[i].dtype == 'object':\n",
        "      test[i] = test[i].fillna(test[i].mode().iloc[0])\n",
        "    elif (test[i].dtype != 'object'):\n",
        "      test[i] = test[i].fillna(np.mean(test[i]))\n",
        "    \n",
        "\n",
        "print('Nulls in train set:', train.isnull().sum().sum())\n",
        "print('Nulls in test set:', test.isnull().sum().sum())"
      ],
      "execution_count": 19,
      "outputs": [
        {
          "output_type": "stream",
          "text": [
            "Imputing missing values...\n",
            "Nulls in train set: 0\n",
            "Nulls in test set: 0\n"
          ],
          "name": "stdout"
        }
      ]
    },
    {
      "cell_type": "code",
      "metadata": {
        "id": "Vf-KNDSc_LD9",
        "colab_type": "code",
        "colab": {
          "base_uri": "https://localhost:8080/",
          "height": 34
        },
        "outputId": "ff976844-dbe2-4dc9-8fac-d0c1d43e15d5"
      },
      "source": [
        "## label encode categorical variables\n",
        "print('Label Encoding categorical variables...')\n",
        "for col in train.columns:\n",
        "    if train[col].dtype == 'object':\n",
        "      train[col] = train[col].astype('category')\n",
        "      train[col] = train[col].cat.codes\n",
        "\n",
        "for col in test.columns:\n",
        "    if test[col].dtype == 'object':\n",
        "      test[col] = test[col].astype('category')\n",
        "      test[col] = test[col].cat.codes"
      ],
      "execution_count": 20,
      "outputs": [
        {
          "output_type": "stream",
          "text": [
            "Label Encoding categorical variables...\n"
          ],
          "name": "stdout"
        }
      ]
    },
    {
      "cell_type": "code",
      "metadata": {
        "id": "W1rF4il2u3OB",
        "colab_type": "code",
        "colab": {
          "base_uri": "https://localhost:8080/",
          "height": 51
        },
        "outputId": "a0ec9a01-cc32-4d9d-cb90-e6ace4564107"
      },
      "source": [
        "print('train shape:', train.shape)\n",
        "print('test shape:', test.shape)"
      ],
      "execution_count": 22,
      "outputs": [
        {
          "output_type": "stream",
          "text": [
            "train shape: (903653, 13)\n",
            "test shape: (804684, 13)\n"
          ],
          "name": "stdout"
        }
      ]
    },
    {
      "cell_type": "code",
      "metadata": {
        "id": "foflK5MA_QnF",
        "colab_type": "code",
        "colab": {}
      },
      "source": [
        "## Creating a dummy y label and drop the target variable\n",
        "train['set'] = 0\n",
        "test['set'] = 1\n"
      ],
      "execution_count": 0,
      "outputs": []
    },
    {
      "cell_type": "code",
      "metadata": {
        "id": "i7zilX4O_TFO",
        "colab_type": "code",
        "colab": {
          "base_uri": "https://localhost:8080/",
          "height": 34
        },
        "outputId": "801c39ad-8ccc-4353-e4d9-dd3d3914f8c9"
      },
      "source": [
        "train_df = train.sample(10000, random_state=697)\n",
        "test_df = test.sample(10000, random_state=466)\n",
        "\n",
        "all_data = train_df.append(test_df)\n",
        "y_label = all_data['set']\n",
        "all_data = all_data.drop('set',axis=1)\n",
        "\n",
        "#Make sure the new dataframe contains all the initial features\n",
        "print('New dataframe shape:', all_data.shape)"
      ],
      "execution_count": 24,
      "outputs": [
        {
          "output_type": "stream",
          "text": [
            "New dataframe shape: (20000, 12)\n"
          ],
          "name": "stdout"
        }
      ]
    },
    {
      "cell_type": "code",
      "metadata": {
        "id": "3_5KvFOh_Wp4",
        "colab_type": "code",
        "colab": {
          "base_uri": "https://localhost:8080/",
          "height": 221
        },
        "outputId": "59d98ef2-db27-447c-d81e-7f0234fa2fce"
      },
      "source": [
        "model = RandomForestClassifier(n_estimators = 50, max_depth = 5, min_samples_leaf = 5)\n",
        "feat_to_drop = []\n",
        "for col in all_data.columns:\n",
        "    score = cross_val_score(model,pd.DataFrame(all_data[col]),y_label,cv=4,scoring='roc_auc')\n",
        "    if np.mean(score) > 0.8:\n",
        "        feat_to_drop.append(col)\n",
        "    print(col,np.mean(score))"
      ],
      "execution_count": 25,
      "outputs": [
        {
          "output_type": "stream",
          "text": [
            "channelGrouping 0.57437524\n",
            "date 1.0\n",
            "device 0.9936929200000001\n",
            "fullVisitorId 0.5668589199999999\n",
            "geoNetwork 0.67790168\n",
            "sessionId 0.55659358\n",
            "socialEngagementType 0.5\n",
            "totals 0.842399\n",
            "trafficSource 0.9986791799999999\n",
            "visitId 1.0\n",
            "visitNumber 0.5180248599999999\n",
            "visitStartTime 1.0\n"
          ],
          "name": "stdout"
        }
      ]
    },
    {
      "cell_type": "code",
      "metadata": {
        "id": "OIFaaTn6_ai_",
        "colab_type": "code",
        "colab": {
          "base_uri": "https://localhost:8080/",
          "height": 34
        },
        "outputId": "5e35f4bb-7a59-44c3-ca88-63410faa3e5a"
      },
      "source": [
        "print('Number of features with covariate shift:', len(feat_to_drop))"
      ],
      "execution_count": 26,
      "outputs": [
        {
          "output_type": "stream",
          "text": [
            "Number of features with covariate shift: 6\n"
          ],
          "name": "stdout"
        }
      ]
    },
    {
      "cell_type": "markdown",
      "metadata": {
        "id": "Eb5HvxXNwJzE",
        "colab_type": "text"
      },
      "source": [
        "For the covariate shift detection; the auc-roc score of the feature should be greater that 0.80. if its is less than 0.80 then there is no covariate sift in features\n",
        "  As a result for this data set there are 6 columns that have covariate shit"
      ]
    },
    {
      "cell_type": "code",
      "metadata": {
        "id": "oV4U7v-8wSL7",
        "colab_type": "code",
        "colab": {}
      },
      "source": [
        ""
      ],
      "execution_count": 0,
      "outputs": []
    }
  ]
}