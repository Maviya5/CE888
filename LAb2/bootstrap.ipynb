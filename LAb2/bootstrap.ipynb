{
  "nbformat": 4,
  "nbformat_minor": 0,
  "metadata": {
    "kernelspec": {
      "display_name": "Python 3",
      "language": "python",
      "name": "python3"
    },
    "language_info": {
      "codemirror_mode": {
        "name": "ipython",
        "version": 2
      },
      "file_extension": ".py",
      "mimetype": "text/x-python",
      "name": "python",
      "nbconvert_exporter": "python",
      "pygments_lexer": "ipython2",
      "version": "2.7.6"
    },
    "pycharm": {
      "stem_cell": {
        "cell_type": "raw",
        "source": [],
        "metadata": {
          "collapsed": false
        }
      }
    },
    "colab": {
      "name": "bootstrap.ipynb",
      "provenance": [],
      "include_colab_link": true
    }
  },
  "cells": [
    {
      "cell_type": "markdown",
      "metadata": {
        "id": "view-in-github",
        "colab_type": "text"
      },
      "source": [
        "<a href=\"https://colab.research.google.com/github/Maviya5/CE888/blob/master/LAb2/bootstrap.ipynb\" target=\"_parent\"><img src=\"https://colab.research.google.com/assets/colab-badge.svg\" alt=\"Open In Colab\"/></a>"
      ]
    },
    {
      "cell_type": "markdown",
      "metadata": {
        "id": "nCi_99yMYIb1",
        "colab_type": "text"
      },
      "source": [
        "In this notebook you'll create your own bootstrap function following the bootstrap algorithm (check the lecture notes!)"
      ]
    },
    {
      "cell_type": "code",
      "metadata": {
        "pycharm": {
          "name": "#%%# Imports\n"
        },
        "id": "LY5zujI2YC37",
        "colab_type": "code",
        "colab": {}
      },
      "source": [
        "import matplotlib\n",
        "import pandas as pd\n",
        "import seaborn as sns\n",
        "import numpy as np\n",
        "\n"
      ],
      "execution_count": 0,
      "outputs": []
    },
    {
      "cell_type": "code",
      "metadata": {
        "id": "Eqkwj4SMY38t",
        "colab_type": "code",
        "outputId": "1823a87a-bbf0-4678-c581-3cd4fe9da45d",
        "colab": {
          "base_uri": "https://localhost:8080/",
          "height": 34
        }
      },
      "source": [
        "# Load the data\n",
        "df = pd.read_csv('https://raw.githubusercontent.com/albanda/CE888/master/lab2%20-%20bootstrap/customers.csv')\n",
        "data = df.values.T[1]\n",
        "print(data)\n"
      ],
      "execution_count": 2,
      "outputs": [
        {
          "output_type": "stream",
          "text": [
            "[ 2.  8. 20. 13.  5.  9. 10.  8. 22. 10.  2.  4.  7.  9.]\n"
          ],
          "name": "stdout"
        }
      ]
    },
    {
      "cell_type": "code",
      "metadata": {
        "pycharm": {
          "name": "#%%\n"
        },
        "colab_type": "code",
        "id": "cE6ifL9T3Byf",
        "colab": {}
      },
      "source": [
        "# Checking the notes from the lecture, create here your own bootstrap function:\n",
        "# 1. Create an array of samples of shape (n_iterations, sample_size\n",
        "# 2. Calculate and save the mean of the array (this is \"data_mean\" that is returned by the function)\n",
        "# 3. In each iteration:\n",
        "# 3.1 Get the data corresponding to that iteration (new_samples[iteration, :])\n",
        "# 3.2 Calculate the mean of the iteration data and store it\n",
        "# (At this point you should have an array of n_iterations values)\n",
        "# 4. Calculate the lower and upper bounds for a 95% CI (hint: check the percentile function on Numpy)\n",
        "# 5. Return data_mean, and the lower and upper bounds of your interval\n",
        "\tdef boostrap_mean(sample, sample_size, n_iterations):\n",
        "\t\tsam=np.random.choice(sample,(n_iterations,sample_size))\n",
        "\t\tdata_mean=np.mean(sam)\n",
        "\t\tprint(data_mean)\n",
        "\t\teach_mean=np.mean(sam,axis=1)\n",
        "\t\tlower=np.percentile(each_mean,2.5)\n",
        "\t\tupper=np.percentile(each_mean,97.5)\n",
        "\t\n",
        "\t\treturn data_mean, lower, upper\n"
      ],
      "execution_count": 0,
      "outputs": []
    },
    {
      "cell_type": "code",
      "metadata": {
        "pycharm": {
          "name": "#%%\n"
        },
        "id": "AN7sEOcMYC4P",
        "colab_type": "code",
        "outputId": "289d6ab7-4d55-439f-b1cb-3c4741431750",
        "colab": {
          "base_uri": "https://localhost:8080/",
          "height": 1000
        }
      },
      "source": [
        "# Call your bootstrap function and plot the results\n",
        "\n",
        "boots = []\n",
        "for i in range(100, 100000, 1000):\n",
        "    boot = boostrap_mean(data, data.shape[0], i)\n",
        "    boots.append([i, boot[0], \"mean\"])\n",
        "    boots.append([i, boot[1], \"lower\"])\n",
        "    boots.append([i, boot[2], \"upper\"])\n",
        "\n",
        "df_boot = pd.DataFrame(boots, columns=['Boostrap Iterations', 'Mean', \"Value\"])\n",
        "sns_plot = sns.lmplot(df_boot.columns[0], df_boot.columns[1], data=df_boot, fit_reg=False, hue=\"Value\")\n",
        "\n",
        "sns_plot.axes[0, 0].set_ylim(0,)\n",
        "sns_plot.axes[0, 0].set_xlim(0, 100000)\n",
        "\n",
        "#sns_plot.savefig(\"bootstrap_confidence.png\", bbox_inches='tight')\n",
        "#sns_plot.savefig(\"bootstrap_confidence.pdf\", bbox_inches='tight')\n",
        "\n"
      ],
      "execution_count": 4,
      "outputs": [
        {
          "output_type": "stream",
          "text": [
            "9.139285714285714\n",
            "9.218311688311688\n",
            "9.266326530612245\n",
            "9.201543778801843\n",
            "9.218675958188154\n",
            "9.225\n",
            "9.233384074941451\n",
            "9.233732394366196\n",
            "9.20210758377425\n",
            "9.207519623233908\n",
            "9.214413012729844\n",
            "9.21998712998713\n",
            "9.20086186540732\n",
            "9.197104689203925\n",
            "9.231565349544073\n",
            "9.216792809839168\n",
            "9.205443655723158\n",
            "9.218784461152882\n",
            "9.198705603788477\n",
            "9.228571428571428\n",
            "9.21726012793177\n",
            "9.214949221394718\n",
            "9.211897220426632\n",
            "9.214944341372913\n",
            "9.218891523414346\n",
            "9.211132612407512\n",
            "9.221683087027914\n",
            "9.200877701634159\n",
            "9.21370106761566\n",
            "9.218070692194404\n",
            "9.222683910773611\n",
            "9.206839687643546\n",
            "9.219857587894971\n",
            "9.218141993957705\n",
            "9.219868035190617\n",
            "9.212307692307693\n",
            "9.213153937475267\n",
            "9.201082017712746\n",
            "9.198301462317211\n",
            "9.216888929484837\n",
            "9.213083363021019\n",
            "9.216395550921098\n",
            "9.210697319307771\n",
            "9.212121312562148\n",
            "9.209755425979916\n",
            "9.220883750395945\n",
            "9.216211651688875\n",
            "9.209959053685168\n",
            "9.20652955152955\n",
            "9.204944719231888\n",
            "9.202266894781864\n",
            "9.218105954710651\n",
            "9.20354263778448\n",
            "9.201756793112725\n",
            "9.215476630578294\n",
            "9.208545501685247\n",
            "9.218757321110262\n",
            "9.215988241180886\n",
            "9.19898082124416\n",
            "9.205507614213198\n",
            "9.207466127882102\n",
            "9.21318564414309\n",
            "9.2121302047389\n",
            "9.213568032601312\n",
            "9.206168932471584\n",
            "9.21638468290542\n",
            "9.215788848065701\n",
            "9.21224079199489\n",
            "9.21285504510174\n",
            "9.201424436634277\n",
            "9.220094762584063\n",
            "9.218966244725738\n",
            "9.216590053497127\n",
            "9.21062829783076\n",
            "9.215213996529785\n",
            "9.218668442077231\n",
            "9.215640135160504\n",
            "9.206007040948675\n",
            "9.20370038412292\n",
            "9.210255553548853\n",
            "9.206803995006242\n",
            "9.221742117315484\n",
            "9.21836697407343\n",
            "9.213602372356885\n",
            "9.216344487854595\n",
            "9.21586788652006\n",
            "9.208469387755102\n",
            "9.222503690339511\n",
            "9.209700826982326\n",
            "9.218519320185987\n",
            "9.217514666243856\n",
            "9.21171005174847\n",
            "9.214029781293625\n",
            "9.211255945987418\n",
            "9.220540458478823\n",
            "9.218010365029292\n",
            "9.2095488330608\n",
            "9.212144328380168\n",
            "9.210013106159895\n",
            "9.21681058094277\n"
          ],
          "name": "stdout"
        },
        {
          "output_type": "execute_result",
          "data": {
            "text/plain": [
              "(0.0, 100000.0)"
            ]
          },
          "metadata": {
            "tags": []
          },
          "execution_count": 4
        },
        {
          "output_type": "display_data",
          "data": {
            "image/png": "[encoded data removed]",
            "text/plain": [
              "<Figure size 425.125x360 with 1 Axes>"
            ]
          },
          "metadata": {
            "tags": []
          }
        }
      ]
    },
    {
      "cell_type": "markdown",
      "metadata": {
        "collapsed": false,
        "id": "MjtP4e2_YC4V",
        "colab_type": "text"
      },
      "source": [
        "\n",
        "Now, modify the bootstrap function so that you can pass your desired confidence interval as a parameter.\n",
        "\n"
      ]
    },
    {
      "cell_type": "code",
      "metadata": {
        "id": "3K9j0FuGYhHs",
        "colab_type": "code",
        "colab": {}
      },
      "source": [
        "def boostrap_mean_ci(sample, sample_size, iterations, ci):\n",
        "\tnew_samples=np.random.choice(sample,(iterations,sample_size))\n",
        "\tdata_mean=new_samples.mean()\n",
        "\tsample_means=np.array([])\n",
        "\tfor row in new_samples:\n",
        "\t\tsample_means=np.append(sample_means,row.mean())\n",
        "\tsample_means=np.sort(sample_means)\n",
        "\tlimit=(100-ci)/2\n",
        "\tlower=np.percentile(sample_means,limit)\n",
        "\tupper=np.percentile(sample_means,100-limit)\n",
        "\treturn data_mean, lower, upper"
      ],
      "execution_count": 0,
      "outputs": []
    },
    {
      "cell_type": "code",
      "metadata": {
        "id": "uDnjq08GYl-C",
        "colab_type": "code",
        "colab": {}
      },
      "source": [
        "boots = []\n",
        "for i in range(100, 100000, 1000):\n",
        "    boot = boostrap_mean_ci(data, data.shape[0], i, 80)\n",
        "    boots.append([i, boot[0], \"mean\"])\n",
        "    boots.append([i, boot[1], \"lower\"])\n",
        "    boots.append([i, boot[2], \"upper\"])\n",
        "\n"
      ],
      "execution_count": 0,
      "outputs": []
    },
    {
      "cell_type": "code",
      "metadata": {
        "id": "3STaV83drsVL",
        "colab_type": "code",
        "colab": {}
      },
      "source": [
        "df_boot = pd.DataFrame(boots, columns=['Boostrap Iterations', 'Mean', \"Value\"])\n",
        "sns_plot = sns.lmplot(df_boot.columns[0], df_boot.columns[1], data=df_boot, fit_reg=False, hue=\"Value\")\n",
        "\n",
        "sns_plot.axes[0, 0].set_ylim(0,)\n",
        "sns_plot.axes[0, 0].set_xlim(0, 100000)\n",
        "\n",
        "sns_plot.savefig(\"bootstrap_confidence_80.png\", bbox_inches='tight')\n",
        "sns_plot.savefig(\"bootstrap_confidence_80.pdf\", bbox_inches='tight')\n"
      ],
      "execution_count": 0,
      "outputs": []
    },
    {
      "cell_type": "markdown",
      "metadata": {
        "id": "qjNgXW6wdd7r",
        "colab_type": "text"
      },
      "source": [
        "# Vehicles dataset\n",
        "\n",
        "Now let's work on a different dataset. Load the vehicles.csv file and check the Moodle page for instructions on how to proceed\n"
      ]
    },
    {
      "cell_type": "code",
      "metadata": {
        "id": "avWv4ipFdpka",
        "colab_type": "code",
        "colab": {
          "base_uri": "https://localhost:8080/",
          "height": 197
        },
        "outputId": "30df7e13-4eee-44a3-8f20-cf0470cf2371"
      },
      "source": [
        "# Load and visualise the vehicles dataset\n",
        "# <---INSERT YOUR CODE HERE--->\n",
        "# Note: you can add more cells as needed to organise your code and your plots\n",
        "\n",
        "\n",
        "\n",
        "df=pd.read_csv(\"https://raw.githubusercontent.com/albanda/CE888/master/lab2%20-%20bootstrap/vehicles.csv\")\n",
        "df.head()"
      ],
      "execution_count": 10,
      "outputs": [
        {
          "output_type": "execute_result",
          "data": {
            "text/html": [
              "<div>\n",
              "<style scoped>\n",
              "    .dataframe tbody tr th:only-of-type {\n",
              "        vertical-align: middle;\n",
              "    }\n",
              "\n",
              "    .dataframe tbody tr th {\n",
              "        vertical-align: top;\n",
              "    }\n",
              "\n",
              "    .dataframe thead th {\n",
              "        text-align: right;\n",
              "    }\n",
              "</style>\n",
              "<table border=\"1\" class=\"dataframe\">\n",
              "  <thead>\n",
              "    <tr style=\"text-align: right;\">\n",
              "      <th></th>\n",
              "      <th>Current fleet</th>\n",
              "      <th>New Fleet</th>\n",
              "    </tr>\n",
              "  </thead>\n",
              "  <tbody>\n",
              "    <tr>\n",
              "      <th>0</th>\n",
              "      <td>18</td>\n",
              "      <td>24.0</td>\n",
              "    </tr>\n",
              "    <tr>\n",
              "      <th>1</th>\n",
              "      <td>15</td>\n",
              "      <td>27.0</td>\n",
              "    </tr>\n",
              "    <tr>\n",
              "      <th>2</th>\n",
              "      <td>18</td>\n",
              "      <td>27.0</td>\n",
              "    </tr>\n",
              "    <tr>\n",
              "      <th>3</th>\n",
              "      <td>16</td>\n",
              "      <td>25.0</td>\n",
              "    </tr>\n",
              "    <tr>\n",
              "      <th>4</th>\n",
              "      <td>17</td>\n",
              "      <td>31.0</td>\n",
              "    </tr>\n",
              "  </tbody>\n",
              "</table>\n",
              "</div>"
            ],
            "text/plain": [
              "   Current fleet  New Fleet\n",
              "0             18       24.0\n",
              "1             15       27.0\n",
              "2             18       27.0\n",
              "3             16       25.0\n",
              "4             17       31.0"
            ]
          },
          "metadata": {
            "tags": []
          },
          "execution_count": 10
        }
      ]
    },
    {
      "cell_type": "code",
      "metadata": {
        "id": "BAKyj983dwSM",
        "colab_type": "code",
        "colab": {
          "base_uri": "https://localhost:8080/",
          "height": 386
        },
        "outputId": "c86e1275-1467-4218-8975-a917bc89f74d"
      },
      "source": [
        "# Compare the two fleets.\n",
        "sns.lmplot(df.columns[0], df.columns[1],data=df, fit_reg=False)\n",
        "\n",
        "# You can create a permutation test function to do this. Check the lecture notes!"
      ],
      "execution_count": 11,
      "outputs": [
        {
          "output_type": "execute_result",
          "data": {
            "text/plain": [
              "<seaborn.axisgrid.FacetGrid at 0x7f1a1fc5a518>"
            ]
          },
          "metadata": {
            "tags": []
          },
          "execution_count": 11
        },
        {
          "output_type": "display_data",
          "data": {
            "image/png": "[encoded data removed]",
            "text/plain": [
              "<Figure size 360x360 with 1 Axes>"
            ]
          },
          "metadata": {
            "tags": []
          }
        }
      ]
    },
    {
      "cell_type": "code",
      "metadata": {
        "id": "if-RY4aTd4CZ",
        "colab_type": "code",
        "colab": {
          "base_uri": "https://localhost:8080/",
          "height": 297
        },
        "outputId": "f8f760b3-f974-462b-a918-4846d9aa421a"
      },
      "source": [
        "data = df[df.columns[0]].values\n",
        "sns.distplot(data, bins=20,kde=False, rug=True).set_title(\"Current Fleet\")"
      ],
      "execution_count": 12,
      "outputs": [
        {
          "output_type": "execute_result",
          "data": {
            "text/plain": [
              "Text(0.5, 1.0, 'Current Fleet')"
            ]
          },
          "metadata": {
            "tags": []
          },
          "execution_count": 12
        },
        {
          "output_type": "display_data",
          "data": {
            "image/png": "[encoded data removed]",
            "text/plain": [
              "<Figure size 432x288 with 1 Axes>"
            ]
          },
          "metadata": {
            "tags": []
          }
        }
      ]
    },
    {
      "cell_type": "code",
      "metadata": {
        "id": "Jc24_TF_rGcB",
        "colab_type": "code",
        "colab": {
          "base_uri": "https://localhost:8080/",
          "height": 297
        },
        "outputId": "a108660c-a4fc-4944-88f8-8548e6b573f1"
      },
      "source": [
        "data = df[df.columns[1]].values\n",
        "sns.distplot(data, bins=20,kde=False, rug=True).set_title(\"New fleet\")"
      ],
      "execution_count": 13,
      "outputs": [
        {
          "output_type": "execute_result",
          "data": {
            "text/plain": [
              "Text(0.5, 1.0, 'New fleet')"
            ]
          },
          "metadata": {
            "tags": []
          },
          "execution_count": 13
        },
        {
          "output_type": "display_data",
          "data": {
            "image/png": "[encoded data removed]",
            "text/plain": [
              "<Figure size 432x288 with 1 Axes>"
            ]
          },
          "metadata": {
            "tags": []
          }
        }
      ]
    },
    {
      "cell_type": "code",
      "metadata": {
        "id": "c9M34GvhrJjL",
        "colab_type": "code",
        "colab": {}
      },
      "source": [
        "def calc_pvalue(iterations,data_1,data_2,t_obs):\n",
        "  concat = np.concatenate((data_1,data_2))\n",
        "  cnt=0\n",
        "  for i in range(0,iterations):\n",
        "    perm = np.random.permutation(concat)\n",
        "    pcurrent = perm[:len(data_1)]\n",
        "    pnew = perm[len(data_1):]\n",
        "    mean_perm_current=pcurrent.mean()\n",
        "    mean_perm_new=pnew.mean()\n",
        "    t_perm=mean_perm_new-mean_perm_current\n",
        "    if(t_perm>t_obs):\n",
        "      cnt+=1\n",
        "  p_value=cnt/iterations\n",
        "  return p_value"
      ],
      "execution_count": 0,
      "outputs": []
    },
    {
      "cell_type": "code",
      "metadata": {
        "id": "xtE62z0OrMJk",
        "colab_type": "code",
        "colab": {}
      },
      "source": [
        "# Compare the two fleets.\n",
        "# You can create a permutation test function to do this. Check the lecture notes!\n",
        "data_current_fleet=np.array(df[df.columns[0]].values)\n",
        "data_new_fleet=np.array(df[df.columns[1]].dropna().values)\n",
        "mean_current=data_current_fleet.mean()\n",
        "mean_new=data_new_fleet.mean()\n",
        "t_obs=mean_new-mean_current"
      ],
      "execution_count": 0,
      "outputs": []
    },
    {
      "cell_type": "code",
      "metadata": {
        "id": "vcKIf7NprPMu",
        "colab_type": "code",
        "colab": {
          "base_uri": "https://localhost:8080/",
          "height": 34
        },
        "outputId": "65f14c76-0224-42d4-8308-311d0d3e6686"
      },
      "source": [
        "p_val=calc_pvalue(50000,data_current_fleet,data_new_fleet,t_obs)\n",
        "print(p_val)"
      ],
      "execution_count": 16,
      "outputs": [
        {
          "output_type": "stream",
          "text": [
            "0.0\n"
          ],
          "name": "stdout"
        }
      ]
    },
    {
      "cell_type": "code",
      "metadata": {
        "id": "mZLsZkgfrTYM",
        "colab_type": "code",
        "colab": {
          "base_uri": "https://localhost:8080/",
          "height": 34
        },
        "outputId": "5c7e81f2-98ab-4a7b-bb25-e254c386c73c"
      },
      "source": [
        "old = np.array([0, 0, 0, 0, 0, 0, 1, 0, 0, 1, 0])\n",
        "new = np.array([1, 0, 0, 1, 1, 1, 0, 0, 0, 1, 0])\n",
        "mean_current=old.mean()\n",
        "mean_new=new.mean()\n",
        "t_obs=mean_new-mean_current\n",
        "p_val=calc_pvalue(20000,old,new,t_obs)\n",
        "print(p_val)"
      ],
      "execution_count": 17,
      "outputs": [
        {
          "output_type": "stream",
          "text": [
            "0.03175\n"
          ],
          "name": "stdout"
        }
      ]
    },
    {
      "cell_type": "code",
      "metadata": {
        "id": "pNVx5DWprVkL",
        "colab_type": "code",
        "colab": {}
      },
      "source": [
        ""
      ],
      "execution_count": 0,
      "outputs": []
    }
  ]
}